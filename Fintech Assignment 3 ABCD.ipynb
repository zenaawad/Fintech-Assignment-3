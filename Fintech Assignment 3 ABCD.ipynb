{
 "cells": [
  {
   "cell_type": "markdown",
   "metadata": {},
   "source": [
    "PART A"
   ]
  },
  {
   "cell_type": "code",
   "execution_count": 14,
   "metadata": {},
   "outputs": [],
   "source": [
    "import pandas as pd"
   ]
  },
  {
   "cell_type": "code",
   "execution_count": 15,
   "metadata": {},
   "outputs": [],
   "source": [
    "crowdfund = pd.read_csv(\"ks-projects-sample.csv\")\n",
    "#importing data"
   ]
  },
  {
   "cell_type": "code",
   "execution_count": 16,
   "metadata": {
    "scrolled": false
   },
   "outputs": [
    {
     "data": {
      "text/html": [
       "<div>\n",
       "<style scoped>\n",
       "    .dataframe tbody tr th:only-of-type {\n",
       "        vertical-align: middle;\n",
       "    }\n",
       "\n",
       "    .dataframe tbody tr th {\n",
       "        vertical-align: top;\n",
       "    }\n",
       "\n",
       "    .dataframe thead th {\n",
       "        text-align: right;\n",
       "    }\n",
       "</style>\n",
       "<table border=\"1\" class=\"dataframe\">\n",
       "  <thead>\n",
       "    <tr style=\"text-align: right;\">\n",
       "      <th></th>\n",
       "      <th>name</th>\n",
       "      <th>category</th>\n",
       "      <th>main_category</th>\n",
       "      <th>currency</th>\n",
       "      <th>start</th>\n",
       "      <th>end</th>\n",
       "      <th>year</th>\n",
       "      <th>goal</th>\n",
       "      <th>pledged</th>\n",
       "      <th>backers</th>\n",
       "    </tr>\n",
       "  </thead>\n",
       "  <tbody>\n",
       "    <tr>\n",
       "      <th>0</th>\n",
       "      <td>HELIO: Incredible Brightness, Ultra Lightness.</td>\n",
       "      <td>Design</td>\n",
       "      <td>Design</td>\n",
       "      <td>USD</td>\n",
       "      <td>5/3/17</td>\n",
       "      <td>7/2/17</td>\n",
       "      <td>2017</td>\n",
       "      <td>10000</td>\n",
       "      <td>68033.0</td>\n",
       "      <td>1225</td>\n",
       "    </tr>\n",
       "    <tr>\n",
       "      <th>1</th>\n",
       "      <td>Artist Residency @ Vermont Studio Center</td>\n",
       "      <td>Painting</td>\n",
       "      <td>Art</td>\n",
       "      <td>USD</td>\n",
       "      <td>2/20/13</td>\n",
       "      <td>3/22/13</td>\n",
       "      <td>2013</td>\n",
       "      <td>1500</td>\n",
       "      <td>2173.0</td>\n",
       "      <td>21</td>\n",
       "    </tr>\n",
       "    <tr>\n",
       "      <th>2</th>\n",
       "      <td>ARTSi - Complete Your iPad 2 / New iPad Painti...</td>\n",
       "      <td>Product Design</td>\n",
       "      <td>Design</td>\n",
       "      <td>USD</td>\n",
       "      <td>7/11/12</td>\n",
       "      <td>8/30/12</td>\n",
       "      <td>2012</td>\n",
       "      <td>53000</td>\n",
       "      <td>348.0</td>\n",
       "      <td>11</td>\n",
       "    </tr>\n",
       "    <tr>\n",
       "      <th>3</th>\n",
       "      <td>Sidereal Calendar Year 413: Kemetic Societies ...</td>\n",
       "      <td>Publishing</td>\n",
       "      <td>Publishing</td>\n",
       "      <td>USD</td>\n",
       "      <td>8/15/13</td>\n",
       "      <td>8/26/13</td>\n",
       "      <td>2013</td>\n",
       "      <td>5500</td>\n",
       "      <td>5965.0</td>\n",
       "      <td>100</td>\n",
       "    </tr>\n",
       "    <tr>\n",
       "      <th>4</th>\n",
       "      <td>Unseen world of Colorado</td>\n",
       "      <td>Photography</td>\n",
       "      <td>Photography</td>\n",
       "      <td>USD</td>\n",
       "      <td>5/10/14</td>\n",
       "      <td>5/31/14</td>\n",
       "      <td>2014</td>\n",
       "      <td>5000</td>\n",
       "      <td>0.0</td>\n",
       "      <td>0</td>\n",
       "    </tr>\n",
       "    <tr>\n",
       "      <th>5</th>\n",
       "      <td>Kilduff's painted encyclopedia of idioms,puns ...</td>\n",
       "      <td>Art Books</td>\n",
       "      <td>Publishing</td>\n",
       "      <td>USD</td>\n",
       "      <td>3/18/16</td>\n",
       "      <td>4/17/16</td>\n",
       "      <td>2016</td>\n",
       "      <td>2500</td>\n",
       "      <td>3497.0</td>\n",
       "      <td>53</td>\n",
       "    </tr>\n",
       "    <tr>\n",
       "      <th>6</th>\n",
       "      <td>The Anti-Valentine's Day Card</td>\n",
       "      <td>Comedy</td>\n",
       "      <td>Publishing</td>\n",
       "      <td>USD</td>\n",
       "      <td>1/24/17</td>\n",
       "      <td>2/2/17</td>\n",
       "      <td>2017</td>\n",
       "      <td>7000</td>\n",
       "      <td>0.0</td>\n",
       "      <td>0</td>\n",
       "    </tr>\n",
       "    <tr>\n",
       "      <th>7</th>\n",
       "      <td>The Shadow of the Gauntlet</td>\n",
       "      <td>Fiction</td>\n",
       "      <td>Publishing</td>\n",
       "      <td>USD</td>\n",
       "      <td>12/3/12</td>\n",
       "      <td>1/2/13</td>\n",
       "      <td>2013</td>\n",
       "      <td>6000</td>\n",
       "      <td>7035.0</td>\n",
       "      <td>109</td>\n",
       "    </tr>\n",
       "    <tr>\n",
       "      <th>8</th>\n",
       "      <td>Voiceless</td>\n",
       "      <td>Film &amp; Video</td>\n",
       "      <td>Film &amp; Video</td>\n",
       "      <td>USD</td>\n",
       "      <td>10/24/16</td>\n",
       "      <td>11/14/16</td>\n",
       "      <td>2016</td>\n",
       "      <td>600</td>\n",
       "      <td>620.0</td>\n",
       "      <td>9</td>\n",
       "    </tr>\n",
       "    <tr>\n",
       "      <th>9</th>\n",
       "      <td>Student IDeals: Get more when you go out!</td>\n",
       "      <td>Apps</td>\n",
       "      <td>Technology</td>\n",
       "      <td>USD</td>\n",
       "      <td>5/12/14</td>\n",
       "      <td>6/26/14</td>\n",
       "      <td>2014</td>\n",
       "      <td>25000</td>\n",
       "      <td>25797.0</td>\n",
       "      <td>119</td>\n",
       "    </tr>\n",
       "  </tbody>\n",
       "</table>\n",
       "</div>"
      ],
      "text/plain": [
       "                                                name        category  \\\n",
       "0     HELIO: Incredible Brightness, Ultra Lightness.          Design   \n",
       "1           Artist Residency @ Vermont Studio Center        Painting   \n",
       "2  ARTSi - Complete Your iPad 2 / New iPad Painti...  Product Design   \n",
       "3  Sidereal Calendar Year 413: Kemetic Societies ...      Publishing   \n",
       "4                           Unseen world of Colorado     Photography   \n",
       "5  Kilduff's painted encyclopedia of idioms,puns ...       Art Books   \n",
       "6                      The Anti-Valentine's Day Card          Comedy   \n",
       "7                         The Shadow of the Gauntlet         Fiction   \n",
       "8                                          Voiceless    Film & Video   \n",
       "9          Student IDeals: Get more when you go out!            Apps   \n",
       "\n",
       "  main_category currency     start       end  year   goal  pledged  backers  \n",
       "0        Design      USD    5/3/17    7/2/17  2017  10000  68033.0     1225  \n",
       "1           Art      USD   2/20/13   3/22/13  2013   1500   2173.0       21  \n",
       "2        Design      USD   7/11/12   8/30/12  2012  53000    348.0       11  \n",
       "3    Publishing      USD   8/15/13   8/26/13  2013   5500   5965.0      100  \n",
       "4   Photography      USD   5/10/14   5/31/14  2014   5000      0.0        0  \n",
       "5    Publishing      USD   3/18/16   4/17/16  2016   2500   3497.0       53  \n",
       "6    Publishing      USD   1/24/17    2/2/17  2017   7000      0.0        0  \n",
       "7    Publishing      USD   12/3/12    1/2/13  2013   6000   7035.0      109  \n",
       "8  Film & Video      USD  10/24/16  11/14/16  2016    600    620.0        9  \n",
       "9    Technology      USD   5/12/14   6/26/14  2014  25000  25797.0      119  "
      ]
     },
     "execution_count": 16,
     "metadata": {},
     "output_type": "execute_result"
    }
   ],
   "source": [
    "crowdfund.head(10)\n",
    "#viewing data"
   ]
  },
  {
   "cell_type": "code",
   "execution_count": 17,
   "metadata": {},
   "outputs": [
    {
     "data": {
      "text/html": [
       "<div>\n",
       "<style scoped>\n",
       "    .dataframe tbody tr th:only-of-type {\n",
       "        vertical-align: middle;\n",
       "    }\n",
       "\n",
       "    .dataframe tbody tr th {\n",
       "        vertical-align: top;\n",
       "    }\n",
       "\n",
       "    .dataframe thead th {\n",
       "        text-align: right;\n",
       "    }\n",
       "</style>\n",
       "<table border=\"1\" class=\"dataframe\">\n",
       "  <thead>\n",
       "    <tr style=\"text-align: right;\">\n",
       "      <th></th>\n",
       "      <th>name</th>\n",
       "      <th>category</th>\n",
       "      <th>main_category</th>\n",
       "      <th>currency</th>\n",
       "      <th>start</th>\n",
       "      <th>end</th>\n",
       "      <th>year</th>\n",
       "      <th>goal</th>\n",
       "      <th>pledged</th>\n",
       "      <th>backers</th>\n",
       "      <th>Date</th>\n",
       "      <th>Year</th>\n",
       "    </tr>\n",
       "  </thead>\n",
       "  <tbody>\n",
       "    <tr>\n",
       "      <th>0</th>\n",
       "      <td>HELIO: Incredible Brightness, Ultra Lightness.</td>\n",
       "      <td>Design</td>\n",
       "      <td>Design</td>\n",
       "      <td>USD</td>\n",
       "      <td>5/3/17</td>\n",
       "      <td>7/2/17</td>\n",
       "      <td>2017</td>\n",
       "      <td>10000</td>\n",
       "      <td>68033.0</td>\n",
       "      <td>1225</td>\n",
       "      <td>2017-07-02</td>\n",
       "      <td>2017</td>\n",
       "    </tr>\n",
       "    <tr>\n",
       "      <th>1</th>\n",
       "      <td>Artist Residency @ Vermont Studio Center</td>\n",
       "      <td>Painting</td>\n",
       "      <td>Art</td>\n",
       "      <td>USD</td>\n",
       "      <td>2/20/13</td>\n",
       "      <td>3/22/13</td>\n",
       "      <td>2013</td>\n",
       "      <td>1500</td>\n",
       "      <td>2173.0</td>\n",
       "      <td>21</td>\n",
       "      <td>2013-03-22</td>\n",
       "      <td>2013</td>\n",
       "    </tr>\n",
       "    <tr>\n",
       "      <th>2</th>\n",
       "      <td>ARTSi - Complete Your iPad 2 / New iPad Painti...</td>\n",
       "      <td>Product Design</td>\n",
       "      <td>Design</td>\n",
       "      <td>USD</td>\n",
       "      <td>7/11/12</td>\n",
       "      <td>8/30/12</td>\n",
       "      <td>2012</td>\n",
       "      <td>53000</td>\n",
       "      <td>348.0</td>\n",
       "      <td>11</td>\n",
       "      <td>2012-08-30</td>\n",
       "      <td>2012</td>\n",
       "    </tr>\n",
       "    <tr>\n",
       "      <th>3</th>\n",
       "      <td>Sidereal Calendar Year 413: Kemetic Societies ...</td>\n",
       "      <td>Publishing</td>\n",
       "      <td>Publishing</td>\n",
       "      <td>USD</td>\n",
       "      <td>8/15/13</td>\n",
       "      <td>8/26/13</td>\n",
       "      <td>2013</td>\n",
       "      <td>5500</td>\n",
       "      <td>5965.0</td>\n",
       "      <td>100</td>\n",
       "      <td>2013-08-26</td>\n",
       "      <td>2013</td>\n",
       "    </tr>\n",
       "    <tr>\n",
       "      <th>4</th>\n",
       "      <td>Unseen world of Colorado</td>\n",
       "      <td>Photography</td>\n",
       "      <td>Photography</td>\n",
       "      <td>USD</td>\n",
       "      <td>5/10/14</td>\n",
       "      <td>5/31/14</td>\n",
       "      <td>2014</td>\n",
       "      <td>5000</td>\n",
       "      <td>0.0</td>\n",
       "      <td>0</td>\n",
       "      <td>2014-05-31</td>\n",
       "      <td>2014</td>\n",
       "    </tr>\n",
       "  </tbody>\n",
       "</table>\n",
       "</div>"
      ],
      "text/plain": [
       "                                                name        category  \\\n",
       "0     HELIO: Incredible Brightness, Ultra Lightness.          Design   \n",
       "1           Artist Residency @ Vermont Studio Center        Painting   \n",
       "2  ARTSi - Complete Your iPad 2 / New iPad Painti...  Product Design   \n",
       "3  Sidereal Calendar Year 413: Kemetic Societies ...      Publishing   \n",
       "4                           Unseen world of Colorado     Photography   \n",
       "\n",
       "  main_category currency    start      end  year   goal  pledged  backers  \\\n",
       "0        Design      USD   5/3/17   7/2/17  2017  10000  68033.0     1225   \n",
       "1           Art      USD  2/20/13  3/22/13  2013   1500   2173.0       21   \n",
       "2        Design      USD  7/11/12  8/30/12  2012  53000    348.0       11   \n",
       "3    Publishing      USD  8/15/13  8/26/13  2013   5500   5965.0      100   \n",
       "4   Photography      USD  5/10/14  5/31/14  2014   5000      0.0        0   \n",
       "\n",
       "        Date  Year  \n",
       "0 2017-07-02  2017  \n",
       "1 2013-03-22  2013  \n",
       "2 2012-08-30  2012  \n",
       "3 2013-08-26  2013  \n",
       "4 2014-05-31  2014  "
      ]
     },
     "execution_count": 17,
     "metadata": {},
     "output_type": "execute_result"
    }
   ],
   "source": [
    "crowdfund['Date'] = pd.to_datetime(crowdfund['end'])\n",
    "#convert string date to datetime\n",
    "crowdfund['Year'] = pd.DatetimeIndex(crowdfund['end']).year\n",
    "#adding a year column for the groupby \n",
    "crowdfund.head()"
   ]
  },
  {
   "cell_type": "code",
   "execution_count": 18,
   "metadata": {},
   "outputs": [],
   "source": [
    "cf_group = crowdfund.groupby('Year')"
   ]
  },
  {
   "cell_type": "code",
   "execution_count": 19,
   "metadata": {
    "scrolled": true
   },
   "outputs": [
    {
     "data": {
      "text/plain": [
       "<matplotlib.axes._subplots.AxesSubplot at 0x12183bed0>"
      ]
     },
     "execution_count": 19,
     "metadata": {},
     "output_type": "execute_result"
    },
    {
     "data": {
      "image/png": "[encoded data removed]",
      "text/plain": [
       "<Figure size 1440x720 with 1 Axes>"
      ]
     },
     "metadata": {
      "needs_background": "light"
     },
     "output_type": "display_data"
    }
   ],
   "source": [
    "cf_group['pledged'].count().plot(figsize=(20,10),title='Number of projects')\n",
    "#reconfigured chart size"
   ]
  },
  {
   "cell_type": "markdown",
   "metadata": {},
   "source": [
    "Between 2009 and 2017, the number of projects peaks at 2015 at around 40 projects and then curves down, indicating a slowdown in the number of projects."
   ]
  },
  {
   "cell_type": "markdown",
   "metadata": {},
   "source": [
    "PART B"
   ]
  },
  {
   "cell_type": "code",
   "execution_count": 20,
   "metadata": {},
   "outputs": [
    {
     "data": {
      "text/plain": [
       "count       200.000000\n",
       "mean       6258.928750\n",
       "std       13830.669501\n",
       "min           0.000000\n",
       "25%          47.750000\n",
       "50%         918.045000\n",
       "75%        6034.760000\n",
       "max      119321.000000\n",
       "Name: pledged, dtype: float64"
      ]
     },
     "execution_count": 20,
     "metadata": {},
     "output_type": "execute_result"
    }
   ],
   "source": [
    "crowdfund['pledged'].describe()"
   ]
  },
  {
   "cell_type": "code",
   "execution_count": 21,
   "metadata": {},
   "outputs": [
    {
     "data": {
      "text/plain": [
       "count    2.000000e+02\n",
       "mean     3.453593e+04\n",
       "std      2.250444e+05\n",
       "min      5.000000e+00\n",
       "25%      2.500000e+03\n",
       "50%      6.000000e+03\n",
       "75%      1.425000e+04\n",
       "max      3.000000e+06\n",
       "Name: goal, dtype: float64"
      ]
     },
     "execution_count": 21,
     "metadata": {},
     "output_type": "execute_result"
    }
   ],
   "source": [
    "crowdfund['goal'].describe()\n"
   ]
  },
  {
   "cell_type": "code",
   "execution_count": 22,
   "metadata": {},
   "outputs": [
    {
     "data": {
      "text/plain": [
       "count     200.000000\n",
       "mean       76.295000\n",
       "std       192.529102\n",
       "min         0.000000\n",
       "25%         2.000000\n",
       "50%        15.000000\n",
       "75%        68.000000\n",
       "max      2004.000000\n",
       "Name: backers, dtype: float64"
      ]
     },
     "execution_count": 22,
     "metadata": {},
     "output_type": "execute_result"
    }
   ],
   "source": [
    "crowdfund['backers'].describe()"
   ]
  },
  {
   "cell_type": "markdown",
   "metadata": {},
   "source": [
    "PART C"
   ]
  },
  {
   "cell_type": "code",
   "execution_count": 23,
   "metadata": {},
   "outputs": [
    {
     "data": {
      "text/html": [
       "<div>\n",
       "<style scoped>\n",
       "    .dataframe tbody tr th:only-of-type {\n",
       "        vertical-align: middle;\n",
       "    }\n",
       "\n",
       "    .dataframe tbody tr th {\n",
       "        vertical-align: top;\n",
       "    }\n",
       "\n",
       "    .dataframe thead th {\n",
       "        text-align: right;\n",
       "    }\n",
       "</style>\n",
       "<table border=\"1\" class=\"dataframe\">\n",
       "  <thead>\n",
       "    <tr style=\"text-align: right;\">\n",
       "      <th></th>\n",
       "      <th>name</th>\n",
       "      <th>category</th>\n",
       "      <th>main_category</th>\n",
       "      <th>currency</th>\n",
       "      <th>start</th>\n",
       "      <th>end</th>\n",
       "      <th>year</th>\n",
       "      <th>goal</th>\n",
       "      <th>pledged</th>\n",
       "      <th>backers</th>\n",
       "      <th>Date</th>\n",
       "      <th>Year</th>\n",
       "      <th>success</th>\n",
       "    </tr>\n",
       "  </thead>\n",
       "  <tbody>\n",
       "    <tr>\n",
       "      <th>0</th>\n",
       "      <td>HELIO: Incredible Brightness, Ultra Lightness.</td>\n",
       "      <td>Design</td>\n",
       "      <td>Design</td>\n",
       "      <td>USD</td>\n",
       "      <td>5/3/17</td>\n",
       "      <td>7/2/17</td>\n",
       "      <td>2017</td>\n",
       "      <td>10000</td>\n",
       "      <td>68033.0</td>\n",
       "      <td>1225</td>\n",
       "      <td>2017-07-02</td>\n",
       "      <td>2017</td>\n",
       "      <td>True</td>\n",
       "    </tr>\n",
       "    <tr>\n",
       "      <th>1</th>\n",
       "      <td>Artist Residency @ Vermont Studio Center</td>\n",
       "      <td>Painting</td>\n",
       "      <td>Art</td>\n",
       "      <td>USD</td>\n",
       "      <td>2/20/13</td>\n",
       "      <td>3/22/13</td>\n",
       "      <td>2013</td>\n",
       "      <td>1500</td>\n",
       "      <td>2173.0</td>\n",
       "      <td>21</td>\n",
       "      <td>2013-03-22</td>\n",
       "      <td>2013</td>\n",
       "      <td>True</td>\n",
       "    </tr>\n",
       "    <tr>\n",
       "      <th>2</th>\n",
       "      <td>ARTSi - Complete Your iPad 2 / New iPad Painti...</td>\n",
       "      <td>Product Design</td>\n",
       "      <td>Design</td>\n",
       "      <td>USD</td>\n",
       "      <td>7/11/12</td>\n",
       "      <td>8/30/12</td>\n",
       "      <td>2012</td>\n",
       "      <td>53000</td>\n",
       "      <td>348.0</td>\n",
       "      <td>11</td>\n",
       "      <td>2012-08-30</td>\n",
       "      <td>2012</td>\n",
       "      <td>False</td>\n",
       "    </tr>\n",
       "    <tr>\n",
       "      <th>3</th>\n",
       "      <td>Sidereal Calendar Year 413: Kemetic Societies ...</td>\n",
       "      <td>Publishing</td>\n",
       "      <td>Publishing</td>\n",
       "      <td>USD</td>\n",
       "      <td>8/15/13</td>\n",
       "      <td>8/26/13</td>\n",
       "      <td>2013</td>\n",
       "      <td>5500</td>\n",
       "      <td>5965.0</td>\n",
       "      <td>100</td>\n",
       "      <td>2013-08-26</td>\n",
       "      <td>2013</td>\n",
       "      <td>True</td>\n",
       "    </tr>\n",
       "    <tr>\n",
       "      <th>4</th>\n",
       "      <td>Unseen world of Colorado</td>\n",
       "      <td>Photography</td>\n",
       "      <td>Photography</td>\n",
       "      <td>USD</td>\n",
       "      <td>5/10/14</td>\n",
       "      <td>5/31/14</td>\n",
       "      <td>2014</td>\n",
       "      <td>5000</td>\n",
       "      <td>0.0</td>\n",
       "      <td>0</td>\n",
       "      <td>2014-05-31</td>\n",
       "      <td>2014</td>\n",
       "      <td>False</td>\n",
       "    </tr>\n",
       "  </tbody>\n",
       "</table>\n",
       "</div>"
      ],
      "text/plain": [
       "                                                name        category  \\\n",
       "0     HELIO: Incredible Brightness, Ultra Lightness.          Design   \n",
       "1           Artist Residency @ Vermont Studio Center        Painting   \n",
       "2  ARTSi - Complete Your iPad 2 / New iPad Painti...  Product Design   \n",
       "3  Sidereal Calendar Year 413: Kemetic Societies ...      Publishing   \n",
       "4                           Unseen world of Colorado     Photography   \n",
       "\n",
       "  main_category currency    start      end  year   goal  pledged  backers  \\\n",
       "0        Design      USD   5/3/17   7/2/17  2017  10000  68033.0     1225   \n",
       "1           Art      USD  2/20/13  3/22/13  2013   1500   2173.0       21   \n",
       "2        Design      USD  7/11/12  8/30/12  2012  53000    348.0       11   \n",
       "3    Publishing      USD  8/15/13  8/26/13  2013   5500   5965.0      100   \n",
       "4   Photography      USD  5/10/14  5/31/14  2014   5000      0.0        0   \n",
       "\n",
       "        Date  Year  success  \n",
       "0 2017-07-02  2017     True  \n",
       "1 2013-03-22  2013     True  \n",
       "2 2012-08-30  2012    False  \n",
       "3 2013-08-26  2013     True  \n",
       "4 2014-05-31  2014    False  "
      ]
     },
     "execution_count": 23,
     "metadata": {},
     "output_type": "execute_result"
    }
   ],
   "source": [
    "crowdfund['success'] = (crowdfund.pledged >= crowdfund.goal)\n",
    "crowdfund.head()"
   ]
  },
  {
   "cell_type": "code",
   "execution_count": 24,
   "metadata": {},
   "outputs": [
    {
     "data": {
      "text/plain": [
       "83"
      ]
     },
     "execution_count": 24,
     "metadata": {},
     "output_type": "execute_result"
    }
   ],
   "source": [
    "sum(crowdfund.success == True)\n",
    "#count the number of successful crowdfunds"
   ]
  },
  {
   "cell_type": "markdown",
   "metadata": {},
   "source": [
    "There were 83 successful projects that met or exceeded their goal."
   ]
  },
  {
   "cell_type": "markdown",
   "metadata": {},
   "source": [
    "PART D"
   ]
  },
  {
   "cell_type": "markdown",
   "metadata": {},
   "source": [
    "d) calculate the success rate over different years, plot the fraction of successful projects in each\n",
    "year. Do you see any trend? [3 points]"
   ]
  },
  {
   "cell_type": "code",
   "execution_count": 28,
   "metadata": {},
   "outputs": [
    {
     "data": {
      "text/plain": [
       "0.415"
      ]
     },
     "execution_count": 28,
     "metadata": {},
     "output_type": "execute_result"
    }
   ],
   "source": [
    "crowdfund.success.mean()\n",
    "# calculate success rate"
   ]
  },
  {
   "cell_type": "code",
   "execution_count": 31,
   "metadata": {
    "scrolled": false
   },
   "outputs": [
    {
     "data": {
      "text/plain": [
       "<matplotlib.axes._subplots.AxesSubplot at 0x124269c50>"
      ]
     },
     "execution_count": 31,
     "metadata": {},
     "output_type": "execute_result"
    },
    {
     "data": {
      "image/png": "[encoded data removed]",
      "text/plain": [
       "<Figure size 576x432 with 1 Axes>"
      ]
     },
     "metadata": {
      "needs_background": "light"
     },
     "output_type": "display_data"
    }
   ],
   "source": [
    "cf_group['success'].mean().plot(figsize=(8,6),title='Success rate')\n",
    "# Plot success rate by year"
   ]
  },
  {
   "cell_type": "markdown",
   "metadata": {},
   "source": [
    "As the years go on, the success rate has dropped creating a negative trend. The exception to this being an increase from 2016 to 2017, which may indicate a current positive trend in 2020. However, we would need data from 2018 and 2019 to see if the negative trend has truly changed."
   ]
  }
 ],
 "metadata": {
  "kernelspec": {
   "display_name": "Python 3",
   "language": "python",
   "name": "python3"
  },
  "language_info": {
   "codemirror_mode": {
    "name": "ipython",
    "version": 3
   },
   "file_extension": ".py",
   "mimetype": "text/x-python",
   "name": "python",
   "nbconvert_exporter": "python",
   "pygments_lexer": "ipython3",
   "version": "3.7.6"
  }
 },
 "nbformat": 4,
 "nbformat_minor": 4
}
